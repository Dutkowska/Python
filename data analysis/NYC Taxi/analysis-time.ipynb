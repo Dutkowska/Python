{
 "cells": [
  {
   "cell_type": "code",
   "execution_count": 1,
   "metadata": {},
   "outputs": [
    {
     "data": {
      "image/png": "[encoded data removed]",
      "text/plain": [
       "<matplotlib.figure.Figure at 0x1c8775030f0>"
      ]
     },
     "metadata": {},
     "output_type": "display_data"
    },
    {
     "data": {
      "text/plain": [
       "\"\\nHOURS:\\nrush hours: 17 - 20\\nthe smallest traffic: 4 - 6\\npeople get out of/go to work at: 8-10, after 15\\nwe need more taxes after 15\\n\\nDAYS:\\nwe have some decrease on day 5. Maybe there was a free day? weather problems?\\nLook at the next day, we have increase. No, decrease wasn't 'cause of weather\\nwe see when we had weekend (wave increase in every week)\\n\""
      ]
     },
     "execution_count": 1,
     "metadata": {},
     "output_type": "execute_result"
    }
   ],
   "source": [
    "\"\"\"\n",
    "We have here some analysis about time\n",
    "-> with using lpep_pickup_datatime and lpep_dropoff_datetime\n",
    "unfortunately we have too small sample for true statistics of the day of the month. \n",
    "For this - we should upload more files (from february, march...)\n",
    "\"\"\"\n",
    "import pandas as pd\n",
    "import numpy as np\n",
    "import seaborn as sns\n",
    "import matplotlib.pyplot as plt\n",
    "import datetime\n",
    "\n",
    "taxi=pd.read_csv('datas.csv')\n",
    "taxi[\"lpep_pickup_datetime\"] = pd.to_datetime(taxi[\"lpep_pickup_datetime\"])\n",
    "taxi[\"lpep_dropoff_datetime\"] = pd.to_datetime(taxi[\"lpep_dropoff_datetime\"])\n",
    "\n",
    "taxi['month'] = taxi.lpep_pickup_datetime.dt.month\n",
    "taxi['day'] = taxi.lpep_pickup_datetime.dt.day\n",
    "taxi['weekday'] = taxi.lpep_pickup_datetime.dt.weekday\n",
    "taxi['hour'] = taxi.lpep_pickup_datetime.dt.hour\n",
    "\n",
    "\n",
    "plt.subplot(1,2,1)\n",
    "plt.title(\"Day histogram\")\n",
    "sns.distplot(taxi['day'], color='blue', label=\"Day\")\n",
    "plt.legend()\n",
    "\n",
    "plt.subplot(1,2,2) \n",
    "sns.distplot(taxi['hour'], color='green', label=\"Hour\")\n",
    "plt.title(\"Hour histogram\")\n",
    "plt.legend()\n",
    "plt.tight_layout() \n",
    "plt.show()\n",
    "\n",
    "\"\"\"\n",
    "HOURS:\n",
    "rush hours: 17 - 20\n",
    "the smallest traffic: 4 - 6\n",
    "people get out of/go to work at: 8-10, after 15\n",
    "we need more taxes after 15\n",
    "\n",
    "DAYS:\n",
    "we have some decrease on day 4. Maybe there was a free day? weather problems?\n",
    "Look at the next day, we have increase.\n",
    "we see when we had weekend (wave increase in every week)\n",
    "\"\"\"\n"
   ]
  },
  {
   "cell_type": "code",
   "execution_count": 2,
   "metadata": {},
   "outputs": [
    {
     "data": {
      "text/plain": [
       "hour\n",
       "18    25056\n",
       "19    24128\n",
       "17    21462\n",
       "20    20603\n",
       "21    18300\n",
       "16    17925\n",
       "22    15894\n",
       "15    15751\n",
       "9     15733\n",
       "8     15148\n",
       "14    13589\n",
       "10    13482\n",
       "23    13163\n",
       "13    12259\n",
       "11    12071\n",
       "12    11781\n",
       "0     10072\n",
       "7      8869\n",
       "1      7552\n",
       "2      5552\n",
       "3      4219\n",
       "6      3809\n",
       "4      3075\n",
       "5      2241\n",
       "dtype: int64"
      ]
     },
     "execution_count": 2,
     "metadata": {},
     "output_type": "execute_result"
    }
   ],
   "source": [
    "#check rush hours without histogram: \n",
    "taxi.groupby('hour').size().sort_values(ascending=False)\n",
    "#rush hours: 17 - 20\n",
    "#we can create night rate after 20 or 21 hour. \n",
    "#night rate after 24 hour = less money. "
   ]
  },
  {
   "cell_type": "code",
   "execution_count": 29,
   "metadata": {},
   "outputs": [
    {
     "name": "stdout",
     "output_type": "stream",
     "text": [
      "9.529944055516493\n"
     ]
    }
   ],
   "source": [
    "h_b=lambda x,y: len(taxi[taxi['hour'].between(x,y)])\n",
    "print(len(taxi)/h_b(0,5))\n",
    "#all rides are 9.5 x more than ones between 0 and 5 (1/5 of day)."
   ]
  },
  {
   "cell_type": "code",
   "execution_count": 30,
   "metadata": {},
   "outputs": [
    {
     "name": "stdout",
     "output_type": "stream",
     "text": [
      "2.8456124656546384\n"
     ]
    }
   ],
   "source": [
    "#take the same length of range, but with rush hours: \n",
    "print(len(taxi)/h_b(17,21))"
   ]
  },
  {
   "cell_type": "code",
   "execution_count": 32,
   "metadata": {},
   "outputs": [
    {
     "name": "stdout",
     "output_type": "stream",
     "text": [
      "3.3489957506649137\n"
     ]
    }
   ],
   "source": [
    "print(h_b(17,21)/h_b(0,5))\n",
    "#there should be more drivers during rush hours - 3,35 more than in the night. "
   ]
  },
  {
   "cell_type": "code",
   "execution_count": 3,
   "metadata": {},
   "outputs": [
    {
     "data": {
      "text/plain": [
       "day\n",
       "27    12633\n",
       "13    12485\n",
       "20    12418\n",
       "26    12351\n",
       "19    12026\n",
       "12    11869\n",
       "25    11335\n",
       "18    11083\n",
       "31    10873\n",
       "24    10779\n",
       "6     10656\n",
       "14    10544\n",
       "5     10517\n",
       "30    10445\n",
       "17    10297\n",
       "11    10139\n",
       "28    10134\n",
       "23     9880\n",
       "21     9727\n",
       "10     9634\n",
       "9      9577\n",
       "16     9562\n",
       "29     9560\n",
       "3      9340\n",
       "22     9271\n",
       "8      9220\n",
       "7      8622\n",
       "1      8341\n",
       "15     8070\n",
       "2      8038\n",
       "4      2308\n",
       "dtype: int64"
      ]
     },
     "execution_count": 3,
     "metadata": {},
     "output_type": "execute_result"
    }
   ],
   "source": [
    "#and do the same with days:\n",
    "taxi.groupby('day').size().sort_values(ascending=False)\n",
    "#what we have between day 1 and 4? Are people waiting for the payments? \n",
    "#Maybe, we have huge increase for day 5 and 6. "
   ]
  },
  {
   "cell_type": "code",
   "execution_count": 12,
   "metadata": {},
   "outputs": [
    {
     "name": "stdout",
     "output_type": "stream",
     "text": [
      "Day 4:  2308  and day 5:  10517\n",
      "4 x less (day by day!)\n"
     ]
    }
   ],
   "source": [
    "le=lambda x: len(taxi[taxi['day']==x])\n",
    "print( \"Day 4: \", le(4), \" and day 5: \", le(5))\n",
    "print(le(5)//le(4), \"x less (day by day!)\")\n",
    "\n",
    "\"\"\"\n",
    "Solution is simple - check weather: \n",
    "https://www.weather.gov/okx/Blizzard_Jan42018\n",
    "there was blizzard on 4th of january!\n",
    "Weather problems has huge impact on statistics of nyc. We should take files from other months of year to clearer view. \n",
    "\"\"\""
   ]
  },
  {
   "cell_type": "code",
   "execution_count": null,
   "metadata": {},
   "outputs": [],
   "source": [
    "\"\"\"\n",
    "to do:\n",
    "relation between time (hour) and: \n",
    "- trip_duration\n",
    "- trip_distance\n",
    "- tips (more tips before job or after evening parties?)\n",
    "\"\"\""
   ]
  },
  {
   "cell_type": "code",
   "execution_count": null,
   "metadata": {
    "collapsed": true
   },
   "outputs": [],
   "source": []
  }
 ],
 "metadata": {
  "kernelspec": {
   "display_name": "Python 3",
   "language": "python",
   "name": "python3"
  },
  "language_info": {
   "codemirror_mode": {
    "name": "ipython",
    "version": 3
   },
   "file_extension": ".py",
   "mimetype": "text/x-python",
   "name": "python",
   "nbconvert_exporter": "python",
   "pygments_lexer": "ipython3",
   "version": "3.6.3"
  }
 },
 "nbformat": 4,
 "nbformat_minor": 2
}

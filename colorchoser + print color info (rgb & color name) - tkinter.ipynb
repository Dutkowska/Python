{
 "cells": [
  {
   "cell_type": "code",
   "execution_count": 32,
   "metadata": {},
   "outputs": [
    {
     "name": "stderr",
     "output_type": "stream",
     "text": [
      "Exception in Tkinter callback\n",
      "Traceback (most recent call last):\n",
      "  File \"C:\\Users\\Paula\\Anaconda3\\lib\\tkinter\\__init__.py\", line 1699, in __call__\n",
      "    return self.func(*args)\n",
      "  File \"<ipython-input-32-93d10534af0e>\", line 33, in fun\n",
      "    senten=info + ('\\n')+ info2\n",
      "UnboundLocalError: local variable 'info2' referenced before assignment\n"
     ]
    }
   ],
   "source": [
    "from tkinter import *\n",
    "from tkinter.colorchooser import askcolor\n",
    "\n",
    "okn=Tk()\n",
    "def fun():\n",
    "    color=askcolor()\n",
    "    info=\"You picked color: \" + str(color)\n",
    "    #red, green, blue\n",
    "    #light - 255, 255, 255 ; dark - 0, 0, 0\n",
    "    a=color[0]\n",
    "    r=a[0]\n",
    "    g=a[1]\n",
    "    b=a[2]\n",
    "    if r>200 and g <50 and b <50:\n",
    "        info2=\"- red color\"\n",
    "    if g>200 and r<50 and b<50:\n",
    "        info2=\"- green color\"\n",
    "    if b>190 and r<150 and g<150:\n",
    "        info2=\"- blue color\"\n",
    "    if b<50 and g<50 and r<50:\n",
    "        info2=\"- dark color\"\n",
    "    if b>200 and g>200 and r>200:\n",
    "        info2=\"- light color\"\n",
    "    if r>200 and g>200 and b<50:\n",
    "        info2=\"- yellow color\"\n",
    "    if r>240 and g>240 and b<150:\n",
    "        info2=\"- yellow color\"\n",
    "    if r<50 and g>100 and b<50:\n",
    "        info2=\"- green color\"\n",
    "    \"\"\"else:\n",
    "        info2=\"unknown color\"\"\"\n",
    "    \n",
    "    senten=info + ('\\n')+ info2\n",
    "    lab.config(text=senten)\n",
    "\n",
    "but=Button(okn, text='Select', command=fun)\n",
    "but.pack()\n",
    "    \n",
    "lab=Label(okn)\n",
    "lab.pack()\n",
    "okn.mainloop()"
   ]
  },
  {
   "cell_type": "code",
   "execution_count": null,
   "metadata": {
    "collapsed": true
   },
   "outputs": [],
   "source": []
  }
 ],
 "metadata": {
  "kernelspec": {
   "display_name": "Python 3",
   "language": "python",
   "name": "python3"
  },
  "language_info": {
   "codemirror_mode": {
    "name": "ipython",
    "version": 3
   },
   "file_extension": ".py",
   "mimetype": "text/x-python",
   "name": "python",
   "nbconvert_exporter": "python",
   "pygments_lexer": "ipython3",
   "version": "3.6.3"
  }
 },
 "nbformat": 4,
 "nbformat_minor": 2
}

{
 "cells": [
  {
   "cell_type": "code",
   "execution_count": 1,
   "metadata": {
    "collapsed": true
   },
   "outputs": [],
   "source": [
    "#This is collection of short codes - functions with only one (or two...) lines. "
   ]
  },
  {
   "cell_type": "code",
   "execution_count": 2,
   "metadata": {},
   "outputs": [
    {
     "data": {
      "text/plain": [
       "[[1, 3, 5], [2, 4, 6]]"
      ]
     },
     "execution_count": 2,
     "metadata": {},
     "output_type": "execute_result"
    }
   ],
   "source": [
    "#matrix transposition\n",
    "transpose_mat=lambda a: [list(i) for i in zip(*a)]\n",
    "transpose_mat([[1,2],[3,4],[5,6]])"
   ]
  },
  {
   "cell_type": "code",
   "execution_count": 3,
   "metadata": {},
   "outputs": [
    {
     "data": {
      "text/plain": [
       "True"
      ]
     },
     "execution_count": 3,
     "metadata": {},
     "output_type": "execute_result"
    }
   ],
   "source": [
    "#check if word is semi-anagram of other word\n",
    "f=lambda text: all([c in 'anagram' for c in text])\n",
    "f('grana')"
   ]
  },
  {
   "cell_type": "code",
   "execution_count": 4,
   "metadata": {},
   "outputs": [
    {
     "data": {
      "text/plain": [
       "[[],\n",
       " [1],\n",
       " [2],\n",
       " [1, 2],\n",
       " [35],\n",
       " [1, 35],\n",
       " [2, 35],\n",
       " [1, 2, 35],\n",
       " [6],\n",
       " [1, 6],\n",
       " [2, 6],\n",
       " [1, 2, 6],\n",
       " [35, 6],\n",
       " [1, 35, 6],\n",
       " [2, 35, 6],\n",
       " [1, 2, 35, 6]]"
      ]
     },
     "execution_count": 4,
     "metadata": {},
     "output_type": "execute_result"
    }
   ],
   "source": [
    "#subsets of set a - number: 2^len(a) && bitwise operators\n",
    "subsets=lambda a: [[b for c, b in enumerate(set(a)) if 1 & (num >> c)] for num in range(2**len(set(a)))]\n",
    "subsets([1,2,35,6])"
   ]
  },
  {
   "cell_type": "code",
   "execution_count": null,
   "metadata": {
    "collapsed": true
   },
   "outputs": [],
   "source": []
  }
 ],
 "metadata": {
  "kernelspec": {
   "display_name": "Python 3",
   "language": "python",
   "name": "python3"
  },
  "language_info": {
   "codemirror_mode": {
    "name": "ipython",
    "version": 3
   },
   "file_extension": ".py",
   "mimetype": "text/x-python",
   "name": "python",
   "nbconvert_exporter": "python",
   "pygments_lexer": "ipython3",
   "version": "3.6.3"
  }
 },
 "nbformat": 4,
 "nbformat_minor": 2
}

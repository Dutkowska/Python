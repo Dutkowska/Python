{
 "cells": [
  {
   "cell_type": "code",
   "execution_count": 4,
   "metadata": {},
   "outputs": [
    {
     "name": "stdout",
     "output_type": "stream",
     "text": [
      "adding:\n",
      " [[12 14]\n",
      " [16 18]\n",
      " [20 22]]\n",
      "substraction: \n",
      " [[-10 -10]\n",
      " [-10 -10]\n",
      " [-10 -10]]\n",
      "multiplication: \n",
      " [[ 1 16]\n",
      " [-1  9]]\n",
      "transpose: \n",
      " [[1 3 5]\n",
      " [2 4 6]]\n"
     ]
    }
   ],
   "source": [
    "import numpy as np #with numpy\n",
    "#previous solution - matrix is old solution, no longer recommended\n",
    "x=np.array([[1,2],[3,4],[5,6]])\n",
    "y=np.array([[11,12],[13,14],[15,16]])\n",
    "print(\"adding:\\n\", x+y)\n",
    "print(\"substraction: \\n\", x-y)\n",
    "xx=np.array([[2, 1, 3], [-1, 2, 4]])\n",
    "yy=np.array([[1, 3], [2, -2], [-1,4]])\n",
    "print(\"multiplication: \\n\", xx@yy)\n",
    "print(\"transpose: \\n\", np.transpose(x))"
   ]
  },
  {
   "cell_type": "code",
   "execution_count": 3,
   "metadata": {},
   "outputs": [
    {
     "name": "stdout",
     "output_type": "stream",
     "text": [
      "adding:  [[12, 14], [16, 18], [20, 22]]\n",
      "subtraction:  [[-10, -10], [-10, -10], [-10, -10]]\n",
      "multiplication with a as a scalar:  [[3, 6], [9, 12], [15, 18]]\n",
      "multiplication of two matrices:  [[1, 16], [-1, 9]]\n",
      "transpose: [[1, 3, 5], [2, 4, 6]]\n",
      "transpose with zip function: [[1, 3, 5], [2, 4, 6]]\n"
     ]
    }
   ],
   "source": [
    "#the middle-long version, without numpy:\n",
    "#rowsa=len(a), columnsa=len(a[0])\n",
    "def adding(a, b):\n",
    "    if(len(a)==len(b) and len(a[0])==len(b[0])): \n",
    "        return[[a[i][j]+b[i][j] for j in range(len(a[0]))] for i in range(len(a))]\n",
    "    else:\n",
    "        print(\"Wrong dimensions.\")\n",
    "    \n",
    "def subtraction(a, b):\n",
    "    if(len(a)==len(b) and len(a[0])==len(b[0])):\n",
    "        return[[a[i][j]-b[i][j] for j in range(len(a[0]))] for i in range(len(a))]\n",
    "    else:\n",
    "        print(\"Wrong dimensions.\")\n",
    "    \n",
    "def multiplication(a,b):\n",
    "    if type(a)==int: #with a as a scalar\n",
    "        return[[a*b[i][j] for j in range(len(b[0]))] for i in range(len(b))]\n",
    "    elif len(a[0])==len(b):\n",
    "        rowsa, rowsb=len(a), len(b)\n",
    "        columnsa, columnsb=len(a[0]), len(b[0])\n",
    "        zipb=list(zip(*b)) #columns vs rows switching\n",
    "        return [[ sum(ela * elb for ela, elb in zip(rowsa, columnsb)) for columnsb in zipb] for rowsa in a]\n",
    "    else:\n",
    "        print(\"Wrong dimensions.\")\n",
    "        \n",
    "def transpose(a):\n",
    "    mat_tr=[[a[j][i] for j in range(len(a))] for i in range(len(a[0]))]\n",
    "    return [row for row in mat_tr]\n",
    "        \n",
    "def transpose_zip(a):\n",
    "    return [list(i) for i in zip(*a)]\n",
    "\n",
    "    \n",
    "x = [[1,2],[3,4],[5,6]]\n",
    "y = [[11,12],[13,14],[15,16]]\n",
    "\n",
    "num=3\n",
    "xx=[[2, 1, 3], [-1, 2, 4]]\n",
    "yy=[[1, 3], [2, -2], [-1,4]]\n",
    "\n",
    "print(\"adding: \", adding(x,y))\n",
    "print(\"subtraction: \", subtraction(x,y))\n",
    "print(\"multiplication with a as a scalar: \", multiplication(num, x))\n",
    "print(\"multiplication of two matrices: \", multiplication(xx,yy))\n",
    "print(\"transpose:\", transpose(x))\n",
    "print(\"transpose with zip function:\", transpose_zip(x))"
   ]
  },
  {
   "cell_type": "code",
   "execution_count": 3,
   "metadata": {},
   "outputs": [
    {
     "name": "stdout",
     "output_type": "stream",
     "text": [
      "adding:  [[12, 14], [16, 18], [20, 22]]\n",
      "subtraction:  [[-10, -10], [-10, -10], [-10, -10]]\n",
      "multiplication with a as a scalar:  [[3, 6], [9, 12], [15, 18]]\n",
      "multiplication of two matrices:  [[1, 16], [-1, 9]]\n"
     ]
    }
   ],
   "source": [
    "#the longest versions:\n",
    "def adding(a,b, sign): #also subtraction (through sign=\"-\")\n",
    "    if(len(a)==len(b) and len(a[0])==len(b[0])):\n",
    "        rows=len(a)\n",
    "        columns=len(a[0])\n",
    "        new=[]\n",
    "        for i in range(rows):\n",
    "            row=[]\n",
    "            for j in range(columns):\n",
    "                if sign=='+':\n",
    "                    row.append(a[i][j]+b[i][j])\n",
    "                elif sign=='-':\n",
    "                    row.append(a[i][j]-b[i][j])\n",
    "            new.append(row)\n",
    "        return new\n",
    "    else:\n",
    "        print(\"Wrong dimensions\")\n",
    "        \n",
    "def multiplication(a,b):\n",
    "    if type(a)==int: #with a as a scalar\n",
    "        new=[]\n",
    "        rows=len(b)\n",
    "        columns=len(b[0])\n",
    "        for i in range(rows):\n",
    "            row=[]\n",
    "            for j in range(columns):\n",
    "                row.append(b[i][j]*a)\n",
    "            new.append(row)\n",
    "        return new\n",
    "    elif len(a[0])==len(b): #multiplication between two matrixes, type(a)==list\n",
    "        rowsa, rowsb=len(a), len(b)\n",
    "        columnsa, columnsb=len(a[0]), len(b[0])\n",
    "        zipb=list(zip(*b)) #columns vs rows switching\n",
    "        return [[ sum(ela * elb for ela, elb in zip(rowsa, columnsb)) for columnsb in zipb] for rowsa in a]\n",
    "    else:\n",
    "        print(\"Wrong dimensions\")\n",
    "        \n",
    "x = [[1,2],[3,4],[5,6]]\n",
    "y = [[11,12],[13,14],[15,16]]\n",
    "\n",
    "xx=[[2, 1, 3], [-1, 2, 4]]\n",
    "yy=[[1, 3], [2, -2], [-1,4]]\n",
    "num=3\n",
    "\n",
    "print(\"adding: \", adding(x,y,'+'))\n",
    "print(\"subtraction: \", adding(x,y,'-'))\n",
    "print(\"multiplication with a as a scalar: \", multiplication(num, x))\n",
    "print(\"multiplication of two matrices: \", multiplication(xx,yy))"
   ]
  },
  {
   "cell_type": "code",
   "execution_count": null,
   "metadata": {
    "collapsed": true
   },
   "outputs": [],
   "source": []
  }
 ],
 "metadata": {
  "kernelspec": {
   "display_name": "Python 3",
   "language": "python",
   "name": "python3"
  },
  "language_info": {
   "codemirror_mode": {
    "name": "ipython",
    "version": 3
   },
   "file_extension": ".py",
   "mimetype": "text/x-python",
   "name": "python",
   "nbconvert_exporter": "python",
   "pygments_lexer": "ipython3",
   "version": "3.6.3"
  }
 },
 "nbformat": 4,
 "nbformat_minor": 2
}

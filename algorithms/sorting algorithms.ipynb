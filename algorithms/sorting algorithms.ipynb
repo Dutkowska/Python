{
 "cells": [
  {
   "cell_type": "code",
   "execution_count": 10,
   "metadata": {},
   "outputs": [
    {
     "name": "stdout",
     "output_type": "stream",
     "text": [
      "[3, 4, 4, 6, 8, 9, 10, 12]\n"
     ]
    }
   ],
   "source": [
    "#method of lists:\n",
    "table=[10,12,8,4,3,6,9,4]\n",
    "table.sort()\n",
    "print(table)"
   ]
  },
  {
   "cell_type": "code",
   "execution_count": 12,
   "metadata": {},
   "outputs": [
    {
     "data": {
      "text/plain": [
       "[3, 4, 4, 6, 8, 9, 10, 12]"
      ]
     },
     "execution_count": 12,
     "metadata": {},
     "output_type": "execute_result"
    }
   ],
   "source": [
    "#python in-built function\n",
    "table=[10,12,8,4,3,6,9,4]\n",
    "sorted(table)"
   ]
  },
  {
   "cell_type": "code",
   "execution_count": 4,
   "metadata": {},
   "outputs": [
    {
     "name": "stdout",
     "output_type": "stream",
     "text": [
      "[3, 4, 4, 6, 8, 9, 10, 12]\n"
     ]
    }
   ],
   "source": [
    "# bubble sort\n",
    "table=[10,12,8,4,3,6,9,4]\n",
    "for j in range(len(table)):\n",
    "    for i in range(len(table)-1):\n",
    "        if table[i]>table[i+1]:\n",
    "            table[i], table[i+1]=table[i+1], table[i]\n",
    "print(table)"
   ]
  },
  {
   "cell_type": "code",
   "execution_count": 7,
   "metadata": {},
   "outputs": [
    {
     "name": "stdout",
     "output_type": "stream",
     "text": [
      "[3, 4, 4, 6, 8, 9, 10, 12]\n"
     ]
    }
   ],
   "source": [
    "#insertion sort\n",
    "table=[10, 12, 8,4,3,6,9,4]\n",
    "for i in range(2, len(table)):\n",
    "    key=table[i] # start from the end, move to the start\n",
    "    j=i-1 \n",
    "    while j>=0 and table[j]>key:\n",
    "        table[j+1]=table[j]\n",
    "        j=j-1\n",
    "    table[j+1]=key\n",
    "print(table)"
   ]
  },
  {
   "cell_type": "code",
   "execution_count": 1,
   "metadata": {},
   "outputs": [
    {
     "name": "stdout",
     "output_type": "stream",
     "text": [
      "[3, 4, 4, 6, 8, 9, 10, 12]\n"
     ]
    }
   ],
   "source": [
    "#selection sort - by searching minimum\n",
    "#find minimum of the list from i-position to its end, \n",
    "#then swap this value with number in i-position\n",
    "table=[10,12,8,4,3,6,9,4]\n",
    "for i in range(len(table)):\n",
    "    j=i\n",
    "    for k in range(i+1, len(table)):\n",
    "        if(table[k]<table[j]):\n",
    "            j=k\n",
    "    table[j], table[i]=table[i], table[j]\n",
    "print(table)"
   ]
  },
  {
   "cell_type": "code",
   "execution_count": 23,
   "metadata": {},
   "outputs": [
    {
     "name": "stdout",
     "output_type": "stream",
     "text": [
      "[3, 4, 4, 6, 8, 9, 10, 12]\n"
     ]
    }
   ],
   "source": [
    "#comb sort\n",
    "from math import *\n",
    "table=[10,12,8,4,3,6,9,4]\n",
    "gap=len(table) #in next iterations /1.3 and floor()\n",
    "while(gap>1):\n",
    "    gap=10*gap /13\n",
    "    if(gap==0):\n",
    "        gap=1 #exit of the loop\n",
    "    gap=floor(gap) #float\n",
    "    for i in range(len(table)-gap):\n",
    "        if(table[i+gap]<table[i]):\n",
    "            tmp=table[i]\n",
    "            table[i], table[i+gap]=table[i+gap], tmp\n",
    "print(table)"
   ]
  },
  {
   "cell_type": "code",
   "execution_count": null,
   "metadata": {
    "collapsed": true
   },
   "outputs": [],
   "source": []
  }
 ],
 "metadata": {
  "kernelspec": {
   "display_name": "Python 3",
   "language": "python",
   "name": "python3"
  },
  "language_info": {
   "codemirror_mode": {
    "name": "ipython",
    "version": 3
   },
   "file_extension": ".py",
   "mimetype": "text/x-python",
   "name": "python",
   "nbconvert_exporter": "python",
   "pygments_lexer": "ipython3",
   "version": "3.6.3"
  }
 },
 "nbformat": 4,
 "nbformat_minor": 2
}

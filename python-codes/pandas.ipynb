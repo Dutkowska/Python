{
 "cells": [
  {
   "cell_type": "code",
   "execution_count": 3,
   "metadata": {
    "collapsed": true
   },
   "outputs": [],
   "source": [
    "import matplotlib.pyplot as plt\n",
    "import numpy as np\n",
    "from numpy.random import randn\n",
    "import pandas as pd\n",
    "from pandas import Series, DataFrame"
   ]
  },
  {
   "cell_type": "code",
   "execution_count": 4,
   "metadata": {},
   "outputs": [
    {
     "name": "stdout",
     "output_type": "stream",
     "text": [
      "0     3\n",
      "1     6\n",
      "2     9\n",
      "3    12\n",
      "dtype: int64\n"
     ]
    }
   ],
   "source": [
    "obj=Series([3,6,9,12])\n",
    "print(obj)"
   ]
  },
  {
   "cell_type": "code",
   "execution_count": 8,
   "metadata": {},
   "outputs": [
    {
     "data": {
      "text/plain": [
       "array([ 3,  6,  9, 12], dtype=int64)"
      ]
     },
     "execution_count": 8,
     "metadata": {},
     "output_type": "execute_result"
    }
   ],
   "source": [
    "obj.values"
   ]
  },
  {
   "cell_type": "code",
   "execution_count": 9,
   "metadata": {},
   "outputs": [
    {
     "data": {
      "text/plain": [
       "RangeIndex(start=0, stop=4, step=1)"
      ]
     },
     "execution_count": 9,
     "metadata": {},
     "output_type": "execute_result"
    }
   ],
   "source": [
    "obj.index"
   ]
  },
  {
   "cell_type": "code",
   "execution_count": 10,
   "metadata": {
    "collapsed": true
   },
   "outputs": [],
   "source": [
    "ww2 = Series([8700000, 4300000, 3000000, 2100000, 400000], \n",
    "                 index=['USSR', 'Germany', 'China', 'Japan', 'USA'])"
   ]
  },
  {
   "cell_type": "code",
   "execution_count": 11,
   "metadata": {},
   "outputs": [
    {
     "data": {
      "text/plain": [
       "Index(['USSR', 'Germany', 'China', 'Japan', 'USA'], dtype='object')"
      ]
     },
     "execution_count": 11,
     "metadata": {},
     "output_type": "execute_result"
    }
   ],
   "source": [
    "ww2.index"
   ]
  },
  {
   "cell_type": "code",
   "execution_count": 14,
   "metadata": {},
   "outputs": [
    {
     "data": {
      "text/plain": [
       "USSR       8700000\n",
       "Germany    4300000\n",
       "China      3000000\n",
       "Japan      2100000\n",
       "USA         400000\n",
       "dtype: int64"
      ]
     },
     "execution_count": 14,
     "metadata": {},
     "output_type": "execute_result"
    }
   ],
   "source": [
    "ww2"
   ]
  },
  {
   "cell_type": "code",
   "execution_count": 15,
   "metadata": {},
   "outputs": [
    {
     "data": {
      "text/plain": [
       "400000"
      ]
     },
     "execution_count": 15,
     "metadata": {},
     "output_type": "execute_result"
    }
   ],
   "source": [
    "ww2['USA']"
   ]
  },
  {
   "cell_type": "code",
   "execution_count": 16,
   "metadata": {},
   "outputs": [
    {
     "data": {
      "text/plain": [
       "USSR       8700000\n",
       "Germany    4300000\n",
       "China      3000000\n",
       "dtype: int64"
      ]
     },
     "execution_count": 16,
     "metadata": {},
     "output_type": "execute_result"
    }
   ],
   "source": [
    "ww2[ww2>2500000]"
   ]
  },
  {
   "cell_type": "code",
   "execution_count": 18,
   "metadata": {},
   "outputs": [
    {
     "name": "stdout",
     "output_type": "stream",
     "text": [
      "{'USSR': 8700000, 'Germany': 4300000, 'China': 3000000, 'Japan': 2100000, 'USA': 400000}\n"
     ]
    }
   ],
   "source": [
    "ww2.dict=ww2.to_dict()\n",
    "print(ww2.dict)"
   ]
  },
  {
   "cell_type": "code",
   "execution_count": 20,
   "metadata": {},
   "outputs": [
    {
     "name": "stdout",
     "output_type": "stream",
     "text": [
      "China      3000000\n",
      "Germany    4300000\n",
      "Japan      2100000\n",
      "USA         400000\n",
      "USSR       8700000\n",
      "dtype: int64\n"
     ]
    }
   ],
   "source": [
    "ww2_series=Series(ww2.dict)\n",
    "print(ww2_series)"
   ]
  },
  {
   "cell_type": "code",
   "execution_count": 23,
   "metadata": {},
   "outputs": [
    {
     "name": "stdout",
     "output_type": "stream",
     "text": [
      "China        3000000.0\n",
      "Germany      4300000.0\n",
      "Japan        2100000.0\n",
      "USA           400000.0\n",
      "USSR         8700000.0\n",
      "Argentina          NaN\n",
      "dtype: float64\n"
     ]
    }
   ],
   "source": [
    "countries=['China', 'Germany', 'Japan', 'USA', 'USSR', 'Argentina']\n",
    "ww2_series=Series(ww2.dict, index=countries)\n",
    "print(ww2_series)"
   ]
  },
  {
   "cell_type": "code",
   "execution_count": 26,
   "metadata": {},
   "outputs": [
    {
     "data": {
      "text/plain": [
       "China        False\n",
       "Germany      False\n",
       "Japan        False\n",
       "USA          False\n",
       "USSR         False\n",
       "Argentina     True\n",
       "dtype: bool"
      ]
     },
     "execution_count": 26,
     "metadata": {},
     "output_type": "execute_result"
    }
   ],
   "source": [
    "ww2=ww2_series\n",
    "pd.isnull(ww2)"
   ]
  },
  {
   "cell_type": "code",
   "execution_count": 28,
   "metadata": {},
   "outputs": [
    {
     "data": {
      "text/plain": [
       "China         True\n",
       "Germany       True\n",
       "Japan         True\n",
       "USA           True\n",
       "USSR          True\n",
       "Argentina    False\n",
       "dtype: bool"
      ]
     },
     "execution_count": 28,
     "metadata": {},
     "output_type": "execute_result"
    }
   ],
   "source": [
    "pd.notnull(ww2)"
   ]
  },
  {
   "cell_type": "code",
   "execution_count": 30,
   "metadata": {},
   "outputs": [
    {
     "name": "stdout",
     "output_type": "stream",
     "text": [
      "China        3000000.0\n",
      "Germany      4300000.0\n",
      "Japan        2100000.0\n",
      "USA           400000.0\n",
      "USSR         8700000.0\n",
      "Argentina          NaN\n",
      "Name: World War 2 Casualties, dtype: float64\n"
     ]
    }
   ],
   "source": [
    "ww2.name=\"World War 2 Casualties\"\n",
    "print(ww2)"
   ]
  },
  {
   "cell_type": "code",
   "execution_count": 32,
   "metadata": {},
   "outputs": [
    {
     "name": "stdout",
     "output_type": "stream",
     "text": [
      "country\n",
      "China        3000000.0\n",
      "Germany      4300000.0\n",
      "Japan        2100000.0\n",
      "USA           400000.0\n",
      "USSR         8700000.0\n",
      "Argentina          NaN\n",
      "Name: World War 2 Casualties, dtype: float64\n"
     ]
    }
   ],
   "source": [
    "ww2.index.name='country'\n",
    "print(ww2)"
   ]
  },
  {
   "cell_type": "code",
   "execution_count": 34,
   "metadata": {},
   "outputs": [
    {
     "data": {
      "text/plain": [
       "True"
      ]
     },
     "execution_count": 34,
     "metadata": {},
     "output_type": "execute_result"
    }
   ],
   "source": [
    "import webbrowser\n",
    "\n",
    "website = 'https://en.wikipedia.org/wiki/NFL_win-loss_records'\n",
    "webbrowser.open(website)"
   ]
  },
  {
   "cell_type": "code",
   "execution_count": 38,
   "metadata": {},
   "outputs": [],
   "source": [
    "\n",
    "nfl_frame = pd.read_clipboard()\n"
   ]
  },
  {
   "cell_type": "code",
   "execution_count": 39,
   "metadata": {},
   "outputs": [
    {
     "data": {
      "text/html": [
       "<div>\n",
       "<style scoped>\n",
       "    .dataframe tbody tr th:only-of-type {\n",
       "        vertical-align: middle;\n",
       "    }\n",
       "\n",
       "    .dataframe tbody tr th {\n",
       "        vertical-align: top;\n",
       "    }\n",
       "\n",
       "    .dataframe thead th {\n",
       "        text-align: right;\n",
       "    }\n",
       "</style>\n",
       "<table border=\"1\" class=\"dataframe\">\n",
       "  <thead>\n",
       "    <tr style=\"text-align: right;\">\n",
       "      <th></th>\n",
       "      <th>nfl_frame</th>\n",
       "      <th>=</th>\n",
       "      <th>pd.read_clipboard()</th>\n",
       "    </tr>\n",
       "  </thead>\n",
       "  <tbody>\n",
       "  </tbody>\n",
       "</table>\n",
       "</div>"
      ],
      "text/plain": [
       "Empty DataFrame\n",
       "Columns: [nfl_frame, =, pd.read_clipboard()]\n",
       "Index: []"
      ]
     },
     "execution_count": 39,
     "metadata": {},
     "output_type": "execute_result"
    }
   ],
   "source": [
    "nfl_frame"
   ]
  },
  {
   "cell_type": "code",
   "execution_count": 40,
   "metadata": {},
   "outputs": [
    {
     "data": {
      "text/plain": [
       "'123 \\nhaha\\nWlazł\\nkotek\\nna płotek'"
      ]
     },
     "execution_count": 40,
     "metadata": {},
     "output_type": "execute_result"
    }
   ],
   "source": [
    "path = '/Users/Paula/Documents/python/plik.txt'\n",
    "plik=open(path, 'r')\n",
    "plik.read()"
   ]
  },
  {
   "cell_type": "code",
   "execution_count": 41,
   "metadata": {
    "collapsed": true
   },
   "outputs": [],
   "source": [
    "path='/Users/Paula/Desktop/Mgr/green_tripdata_2016-01.csv'\n",
    "styczen = pd.read_csv(path)"
   ]
  },
  {
   "cell_type": "code",
   "execution_count": 42,
   "metadata": {},
   "outputs": [
    {
     "data": {
      "text/html": [
       "<div>\n",
       "<style scoped>\n",
       "    .dataframe tbody tr th:only-of-type {\n",
       "        vertical-align: middle;\n",
       "    }\n",
       "\n",
       "    .dataframe tbody tr th {\n",
       "        vertical-align: top;\n",
       "    }\n",
       "\n",
       "    .dataframe thead th {\n",
       "        text-align: right;\n",
       "    }\n",
       "</style>\n",
       "<table border=\"1\" class=\"dataframe\">\n",
       "  <thead>\n",
       "    <tr style=\"text-align: right;\">\n",
       "      <th></th>\n",
       "      <th>VendorID</th>\n",
       "      <th>lpep_pickup_datetime</th>\n",
       "      <th>Lpep_dropoff_datetime</th>\n",
       "      <th>Store_and_fwd_flag</th>\n",
       "      <th>RateCodeID</th>\n",
       "      <th>Pickup_longitude</th>\n",
       "      <th>Pickup_latitude</th>\n",
       "      <th>Dropoff_longitude</th>\n",
       "      <th>Dropoff_latitude</th>\n",
       "      <th>Passenger_count</th>\n",
       "      <th>...</th>\n",
       "      <th>Fare_amount</th>\n",
       "      <th>Extra</th>\n",
       "      <th>MTA_tax</th>\n",
       "      <th>Tip_amount</th>\n",
       "      <th>Tolls_amount</th>\n",
       "      <th>Ehail_fee</th>\n",
       "      <th>improvement_surcharge</th>\n",
       "      <th>Total_amount</th>\n",
       "      <th>Payment_type</th>\n",
       "      <th>Trip_type</th>\n",
       "    </tr>\n",
       "  </thead>\n",
       "  <tbody>\n",
       "    <tr>\n",
       "      <th>0</th>\n",
       "      <td>2</td>\n",
       "      <td>2016-01-01 00:29:24</td>\n",
       "      <td>2016-01-01 00:39:36</td>\n",
       "      <td>N</td>\n",
       "      <td>1</td>\n",
       "      <td>-73.928642</td>\n",
       "      <td>40.680611</td>\n",
       "      <td>-73.924278</td>\n",
       "      <td>40.698044</td>\n",
       "      <td>1</td>\n",
       "      <td>...</td>\n",
       "      <td>8.0</td>\n",
       "      <td>0.5</td>\n",
       "      <td>0.5</td>\n",
       "      <td>1.86</td>\n",
       "      <td>0.0</td>\n",
       "      <td>NaN</td>\n",
       "      <td>0.3</td>\n",
       "      <td>11.16</td>\n",
       "      <td>1</td>\n",
       "      <td>1.0</td>\n",
       "    </tr>\n",
       "    <tr>\n",
       "      <th>1</th>\n",
       "      <td>2</td>\n",
       "      <td>2016-01-01 00:19:39</td>\n",
       "      <td>2016-01-01 00:39:18</td>\n",
       "      <td>N</td>\n",
       "      <td>1</td>\n",
       "      <td>-73.952675</td>\n",
       "      <td>40.723175</td>\n",
       "      <td>-73.923920</td>\n",
       "      <td>40.761379</td>\n",
       "      <td>1</td>\n",
       "      <td>...</td>\n",
       "      <td>15.5</td>\n",
       "      <td>0.5</td>\n",
       "      <td>0.5</td>\n",
       "      <td>0.00</td>\n",
       "      <td>0.0</td>\n",
       "      <td>NaN</td>\n",
       "      <td>0.3</td>\n",
       "      <td>16.80</td>\n",
       "      <td>2</td>\n",
       "      <td>1.0</td>\n",
       "    </tr>\n",
       "    <tr>\n",
       "      <th>2</th>\n",
       "      <td>2</td>\n",
       "      <td>2016-01-01 00:19:33</td>\n",
       "      <td>2016-01-01 00:39:48</td>\n",
       "      <td>N</td>\n",
       "      <td>1</td>\n",
       "      <td>-73.971611</td>\n",
       "      <td>40.676105</td>\n",
       "      <td>-74.013161</td>\n",
       "      <td>40.646072</td>\n",
       "      <td>1</td>\n",
       "      <td>...</td>\n",
       "      <td>16.5</td>\n",
       "      <td>0.5</td>\n",
       "      <td>0.5</td>\n",
       "      <td>4.45</td>\n",
       "      <td>0.0</td>\n",
       "      <td>NaN</td>\n",
       "      <td>0.3</td>\n",
       "      <td>22.25</td>\n",
       "      <td>1</td>\n",
       "      <td>1.0</td>\n",
       "    </tr>\n",
       "    <tr>\n",
       "      <th>3</th>\n",
       "      <td>2</td>\n",
       "      <td>2016-01-01 00:22:12</td>\n",
       "      <td>2016-01-01 00:38:32</td>\n",
       "      <td>N</td>\n",
       "      <td>1</td>\n",
       "      <td>-73.989502</td>\n",
       "      <td>40.669579</td>\n",
       "      <td>-74.000648</td>\n",
       "      <td>40.689034</td>\n",
       "      <td>1</td>\n",
       "      <td>...</td>\n",
       "      <td>13.5</td>\n",
       "      <td>0.5</td>\n",
       "      <td>0.5</td>\n",
       "      <td>0.00</td>\n",
       "      <td>0.0</td>\n",
       "      <td>NaN</td>\n",
       "      <td>0.3</td>\n",
       "      <td>14.80</td>\n",
       "      <td>2</td>\n",
       "      <td>1.0</td>\n",
       "    </tr>\n",
       "    <tr>\n",
       "      <th>4</th>\n",
       "      <td>2</td>\n",
       "      <td>2016-01-01 00:24:01</td>\n",
       "      <td>2016-01-01 00:39:22</td>\n",
       "      <td>N</td>\n",
       "      <td>1</td>\n",
       "      <td>-73.964729</td>\n",
       "      <td>40.682854</td>\n",
       "      <td>-73.940720</td>\n",
       "      <td>40.663013</td>\n",
       "      <td>1</td>\n",
       "      <td>...</td>\n",
       "      <td>12.0</td>\n",
       "      <td>0.5</td>\n",
       "      <td>0.5</td>\n",
       "      <td>0.00</td>\n",
       "      <td>0.0</td>\n",
       "      <td>NaN</td>\n",
       "      <td>0.3</td>\n",
       "      <td>13.30</td>\n",
       "      <td>2</td>\n",
       "      <td>1.0</td>\n",
       "    </tr>\n",
       "  </tbody>\n",
       "</table>\n",
       "<p>5 rows × 21 columns</p>\n",
       "</div>"
      ],
      "text/plain": [
       "   VendorID lpep_pickup_datetime Lpep_dropoff_datetime Store_and_fwd_flag  \\\n",
       "0         2  2016-01-01 00:29:24   2016-01-01 00:39:36                  N   \n",
       "1         2  2016-01-01 00:19:39   2016-01-01 00:39:18                  N   \n",
       "2         2  2016-01-01 00:19:33   2016-01-01 00:39:48                  N   \n",
       "3         2  2016-01-01 00:22:12   2016-01-01 00:38:32                  N   \n",
       "4         2  2016-01-01 00:24:01   2016-01-01 00:39:22                  N   \n",
       "\n",
       "   RateCodeID  Pickup_longitude  Pickup_latitude  Dropoff_longitude  \\\n",
       "0           1        -73.928642        40.680611         -73.924278   \n",
       "1           1        -73.952675        40.723175         -73.923920   \n",
       "2           1        -73.971611        40.676105         -74.013161   \n",
       "3           1        -73.989502        40.669579         -74.000648   \n",
       "4           1        -73.964729        40.682854         -73.940720   \n",
       "\n",
       "   Dropoff_latitude  Passenger_count     ...      Fare_amount  Extra  MTA_tax  \\\n",
       "0         40.698044                1     ...              8.0    0.5      0.5   \n",
       "1         40.761379                1     ...             15.5    0.5      0.5   \n",
       "2         40.646072                1     ...             16.5    0.5      0.5   \n",
       "3         40.689034                1     ...             13.5    0.5      0.5   \n",
       "4         40.663013                1     ...             12.0    0.5      0.5   \n",
       "\n",
       "   Tip_amount  Tolls_amount  Ehail_fee  improvement_surcharge  Total_amount  \\\n",
       "0        1.86           0.0        NaN                    0.3         11.16   \n",
       "1        0.00           0.0        NaN                    0.3         16.80   \n",
       "2        4.45           0.0        NaN                    0.3         22.25   \n",
       "3        0.00           0.0        NaN                    0.3         14.80   \n",
       "4        0.00           0.0        NaN                    0.3         13.30   \n",
       "\n",
       "   Payment_type  Trip_type   \n",
       "0             1         1.0  \n",
       "1             2         1.0  \n",
       "2             1         1.0  \n",
       "3             2         1.0  \n",
       "4             2         1.0  \n",
       "\n",
       "[5 rows x 21 columns]"
      ]
     },
     "execution_count": 42,
     "metadata": {},
     "output_type": "execute_result"
    }
   ],
   "source": [
    "st=styczen\n",
    "st.head()"
   ]
  },
  {
   "cell_type": "code",
   "execution_count": 44,
   "metadata": {},
   "outputs": [
    {
     "data": {
      "text/plain": [
       "Index(['VendorID', 'lpep_pickup_datetime', 'Lpep_dropoff_datetime',\n",
       "       'Store_and_fwd_flag', 'RateCodeID', 'Pickup_longitude',\n",
       "       'Pickup_latitude', 'Dropoff_longitude', 'Dropoff_latitude',\n",
       "       'Passenger_count', 'Trip_distance', 'Fare_amount', 'Extra', 'MTA_tax',\n",
       "       'Tip_amount', 'Tolls_amount', 'Ehail_fee', 'improvement_surcharge',\n",
       "       'Total_amount', 'Payment_type', 'Trip_type '],\n",
       "      dtype='object')"
      ]
     },
     "execution_count": 44,
     "metadata": {},
     "output_type": "execute_result"
    }
   ],
   "source": [
    "st.columns"
   ]
  },
  {
   "cell_type": "code",
   "execution_count": 46,
   "metadata": {},
   "outputs": [
    {
     "data": {
      "text/plain": [
       "VendorID                                   2\n",
       "lpep_pickup_datetime     2016-01-01 00:22:12\n",
       "Lpep_dropoff_datetime    2016-01-01 00:38:32\n",
       "Store_and_fwd_flag                         N\n",
       "RateCodeID                                 1\n",
       "Pickup_longitude                    -73.9895\n",
       "Pickup_latitude                      40.6696\n",
       "Dropoff_longitude                   -74.0006\n",
       "Dropoff_latitude                      40.689\n",
       "Passenger_count                            1\n",
       "Trip_distance                           3.01\n",
       "Fare_amount                             13.5\n",
       "Extra                                    0.5\n",
       "MTA_tax                                  0.5\n",
       "Tip_amount                                 0\n",
       "Tolls_amount                               0\n",
       "Ehail_fee                                NaN\n",
       "improvement_surcharge                    0.3\n",
       "Total_amount                            14.8\n",
       "Payment_type                               2\n",
       "Trip_type                                  1\n",
       "Name: 3, dtype: object"
      ]
     },
     "execution_count": 46,
     "metadata": {},
     "output_type": "execute_result"
    }
   ],
   "source": [
    "st.loc[3]"
   ]
  },
  {
   "cell_type": "code",
   "execution_count": 49,
   "metadata": {},
   "outputs": [
    {
     "ename": "ValueError",
     "evalue": "labels ['Ehail_fee'] not contained in axis",
     "output_type": "error",
     "traceback": [
      "\u001b[1;31m---------------------------------------------------------------------------\u001b[0m",
      "\u001b[1;31mValueError\u001b[0m                                Traceback (most recent call last)",
      "\u001b[1;32m<ipython-input-49-960f36e3eed7>\u001b[0m in \u001b[0;36m<module>\u001b[1;34m()\u001b[0m\n\u001b[1;32m----> 1\u001b[1;33m \u001b[0mst\u001b[0m\u001b[1;33m.\u001b[0m\u001b[0mdrop\u001b[0m\u001b[1;33m(\u001b[0m\u001b[1;34m'Ehail_fee'\u001b[0m\u001b[1;33m,\u001b[0m \u001b[0maxis\u001b[0m\u001b[1;33m=\u001b[0m\u001b[1;36m1\u001b[0m\u001b[1;33m,\u001b[0m \u001b[0minplace\u001b[0m\u001b[1;33m=\u001b[0m\u001b[1;32mTrue\u001b[0m\u001b[1;33m)\u001b[0m\u001b[1;33m\u001b[0m\u001b[0m\n\u001b[0m",
      "\u001b[1;32m~\\Anaconda3\\lib\\site-packages\\pandas\\core\\generic.py\u001b[0m in \u001b[0;36mdrop\u001b[1;34m(self, labels, axis, index, columns, level, inplace, errors)\u001b[0m\n\u001b[0;32m   2528\u001b[0m         \u001b[1;32mfor\u001b[0m \u001b[0maxis\u001b[0m\u001b[1;33m,\u001b[0m \u001b[0mlabels\u001b[0m \u001b[1;32min\u001b[0m \u001b[0maxes\u001b[0m\u001b[1;33m.\u001b[0m\u001b[0mitems\u001b[0m\u001b[1;33m(\u001b[0m\u001b[1;33m)\u001b[0m\u001b[1;33m:\u001b[0m\u001b[1;33m\u001b[0m\u001b[0m\n\u001b[0;32m   2529\u001b[0m             \u001b[1;32mif\u001b[0m \u001b[0mlabels\u001b[0m \u001b[1;32mis\u001b[0m \u001b[1;32mnot\u001b[0m \u001b[1;32mNone\u001b[0m\u001b[1;33m:\u001b[0m\u001b[1;33m\u001b[0m\u001b[0m\n\u001b[1;32m-> 2530\u001b[1;33m                 \u001b[0mobj\u001b[0m \u001b[1;33m=\u001b[0m \u001b[0mobj\u001b[0m\u001b[1;33m.\u001b[0m\u001b[0m_drop_axis\u001b[0m\u001b[1;33m(\u001b[0m\u001b[0mlabels\u001b[0m\u001b[1;33m,\u001b[0m \u001b[0maxis\u001b[0m\u001b[1;33m,\u001b[0m \u001b[0mlevel\u001b[0m\u001b[1;33m=\u001b[0m\u001b[0mlevel\u001b[0m\u001b[1;33m,\u001b[0m \u001b[0merrors\u001b[0m\u001b[1;33m=\u001b[0m\u001b[0merrors\u001b[0m\u001b[1;33m)\u001b[0m\u001b[1;33m\u001b[0m\u001b[0m\n\u001b[0m\u001b[0;32m   2531\u001b[0m \u001b[1;33m\u001b[0m\u001b[0m\n\u001b[0;32m   2532\u001b[0m         \u001b[1;32mif\u001b[0m \u001b[0minplace\u001b[0m\u001b[1;33m:\u001b[0m\u001b[1;33m\u001b[0m\u001b[0m\n",
      "\u001b[1;32m~\\Anaconda3\\lib\\site-packages\\pandas\\core\\generic.py\u001b[0m in \u001b[0;36m_drop_axis\u001b[1;34m(self, labels, axis, level, errors)\u001b[0m\n\u001b[0;32m   2560\u001b[0m                 \u001b[0mnew_axis\u001b[0m \u001b[1;33m=\u001b[0m \u001b[0maxis\u001b[0m\u001b[1;33m.\u001b[0m\u001b[0mdrop\u001b[0m\u001b[1;33m(\u001b[0m\u001b[0mlabels\u001b[0m\u001b[1;33m,\u001b[0m \u001b[0mlevel\u001b[0m\u001b[1;33m=\u001b[0m\u001b[0mlevel\u001b[0m\u001b[1;33m,\u001b[0m \u001b[0merrors\u001b[0m\u001b[1;33m=\u001b[0m\u001b[0merrors\u001b[0m\u001b[1;33m)\u001b[0m\u001b[1;33m\u001b[0m\u001b[0m\n\u001b[0;32m   2561\u001b[0m             \u001b[1;32melse\u001b[0m\u001b[1;33m:\u001b[0m\u001b[1;33m\u001b[0m\u001b[0m\n\u001b[1;32m-> 2562\u001b[1;33m                 \u001b[0mnew_axis\u001b[0m \u001b[1;33m=\u001b[0m \u001b[0maxis\u001b[0m\u001b[1;33m.\u001b[0m\u001b[0mdrop\u001b[0m\u001b[1;33m(\u001b[0m\u001b[0mlabels\u001b[0m\u001b[1;33m,\u001b[0m \u001b[0merrors\u001b[0m\u001b[1;33m=\u001b[0m\u001b[0merrors\u001b[0m\u001b[1;33m)\u001b[0m\u001b[1;33m\u001b[0m\u001b[0m\n\u001b[0m\u001b[0;32m   2563\u001b[0m             \u001b[0mdropped\u001b[0m \u001b[1;33m=\u001b[0m \u001b[0mself\u001b[0m\u001b[1;33m.\u001b[0m\u001b[0mreindex\u001b[0m\u001b[1;33m(\u001b[0m\u001b[1;33m**\u001b[0m\u001b[1;33m{\u001b[0m\u001b[0maxis_name\u001b[0m\u001b[1;33m:\u001b[0m \u001b[0mnew_axis\u001b[0m\u001b[1;33m}\u001b[0m\u001b[1;33m)\u001b[0m\u001b[1;33m\u001b[0m\u001b[0m\n\u001b[0;32m   2564\u001b[0m             \u001b[1;32mtry\u001b[0m\u001b[1;33m:\u001b[0m\u001b[1;33m\u001b[0m\u001b[0m\n",
      "\u001b[1;32m~\\Anaconda3\\lib\\site-packages\\pandas\\core\\indexes\\base.py\u001b[0m in \u001b[0;36mdrop\u001b[1;34m(self, labels, errors)\u001b[0m\n\u001b[0;32m   3739\u001b[0m             \u001b[1;32mif\u001b[0m \u001b[0merrors\u001b[0m \u001b[1;33m!=\u001b[0m \u001b[1;34m'ignore'\u001b[0m\u001b[1;33m:\u001b[0m\u001b[1;33m\u001b[0m\u001b[0m\n\u001b[0;32m   3740\u001b[0m                 raise ValueError('labels %s not contained in axis' %\n\u001b[1;32m-> 3741\u001b[1;33m                                  labels[mask])\n\u001b[0m\u001b[0;32m   3742\u001b[0m             \u001b[0mindexer\u001b[0m \u001b[1;33m=\u001b[0m \u001b[0mindexer\u001b[0m\u001b[1;33m[\u001b[0m\u001b[1;33m~\u001b[0m\u001b[0mmask\u001b[0m\u001b[1;33m]\u001b[0m\u001b[1;33m\u001b[0m\u001b[0m\n\u001b[0;32m   3743\u001b[0m         \u001b[1;32mreturn\u001b[0m \u001b[0mself\u001b[0m\u001b[1;33m.\u001b[0m\u001b[0mdelete\u001b[0m\u001b[1;33m(\u001b[0m\u001b[0mindexer\u001b[0m\u001b[1;33m)\u001b[0m\u001b[1;33m\u001b[0m\u001b[0m\n",
      "\u001b[1;31mValueError\u001b[0m: labels ['Ehail_fee'] not contained in axis"
     ]
    }
   ],
   "source": [
    "st.drop('Ehail_fee', axis=1, inplace=True)"
   ]
  },
  {
   "cell_type": "code",
   "execution_count": 51,
   "metadata": {},
   "outputs": [
    {
     "data": {
      "text/plain": [
       "Index(['VendorID', 'lpep_pickup_datetime', 'Lpep_dropoff_datetime',\n",
       "       'Store_and_fwd_flag', 'RateCodeID', 'Pickup_longitude',\n",
       "       'Pickup_latitude', 'Dropoff_longitude', 'Dropoff_latitude',\n",
       "       'Passenger_count', 'Trip_distance', 'Fare_amount', 'Extra', 'MTA_tax',\n",
       "       'Tip_amount', 'Tolls_amount', 'improvement_surcharge', 'Total_amount',\n",
       "       'Payment_type', 'Trip_type '],\n",
       "      dtype='object')"
      ]
     },
     "execution_count": 51,
     "metadata": {},
     "output_type": "execute_result"
    }
   ],
   "source": [
    "st.columns"
   ]
  },
  {
   "cell_type": "code",
   "execution_count": 52,
   "metadata": {
    "collapsed": true
   },
   "outputs": [],
   "source": [
    "st.drop('Extra', axis=1, inplace=True)\n",
    "st.drop('MTA_tax', axis=1, inplace=True)\n",
    "st.drop('improvement_surcharge', axis=1, inplace=True)\n",
    "st.drop('Tolls_amount', axis=1, inplace=True)"
   ]
  },
  {
   "cell_type": "code",
   "execution_count": 54,
   "metadata": {},
   "outputs": [
    {
     "data": {
      "text/plain": [
       "Index(['VendorID', 'lpep_pickup_datetime', 'Lpep_dropoff_datetime',\n",
       "       'Store_and_fwd_flag', 'RateCodeID', 'Pickup_longitude',\n",
       "       'Pickup_latitude', 'Dropoff_longitude', 'Dropoff_latitude',\n",
       "       'Passenger_count', 'Trip_distance', 'Fare_amount', 'Tip_amount',\n",
       "       'Total_amount', 'Payment_type', 'Trip_type '],\n",
       "      dtype='object')"
      ]
     },
     "execution_count": 54,
     "metadata": {},
     "output_type": "execute_result"
    }
   ],
   "source": [
    "st.columns"
   ]
  },
  {
   "cell_type": "code",
   "execution_count": 55,
   "metadata": {
    "collapsed": true
   },
   "outputs": [],
   "source": [
    "st.drop('VendorID', axis=1, inplace=True)"
   ]
  },
  {
   "cell_type": "code",
   "execution_count": 59,
   "metadata": {
    "collapsed": true
   },
   "outputs": [],
   "source": [
    "st.drop('Store_and_fwd_flag', axis=1, inplace=True)"
   ]
  },
  {
   "cell_type": "code",
   "execution_count": 61,
   "metadata": {
    "collapsed": true
   },
   "outputs": [],
   "source": [
    "st.drop('RateCodeID', axis=1, inplace=True)"
   ]
  },
  {
   "cell_type": "code",
   "execution_count": 62,
   "metadata": {},
   "outputs": [
    {
     "data": {
      "text/html": [
       "<div>\n",
       "<style scoped>\n",
       "    .dataframe tbody tr th:only-of-type {\n",
       "        vertical-align: middle;\n",
       "    }\n",
       "\n",
       "    .dataframe tbody tr th {\n",
       "        vertical-align: top;\n",
       "    }\n",
       "\n",
       "    .dataframe thead th {\n",
       "        text-align: right;\n",
       "    }\n",
       "</style>\n",
       "<table border=\"1\" class=\"dataframe\">\n",
       "  <thead>\n",
       "    <tr style=\"text-align: right;\">\n",
       "      <th></th>\n",
       "      <th>lpep_pickup_datetime</th>\n",
       "      <th>Lpep_dropoff_datetime</th>\n",
       "      <th>Pickup_longitude</th>\n",
       "      <th>Pickup_latitude</th>\n",
       "      <th>Dropoff_longitude</th>\n",
       "      <th>Dropoff_latitude</th>\n",
       "      <th>Passenger_count</th>\n",
       "      <th>Trip_distance</th>\n",
       "      <th>Fare_amount</th>\n",
       "      <th>Tip_amount</th>\n",
       "      <th>Total_amount</th>\n",
       "      <th>Payment_type</th>\n",
       "      <th>Trip_type</th>\n",
       "    </tr>\n",
       "  </thead>\n",
       "  <tbody>\n",
       "    <tr>\n",
       "      <th>0</th>\n",
       "      <td>2016-01-01 00:29:24</td>\n",
       "      <td>2016-01-01 00:39:36</td>\n",
       "      <td>-73.928642</td>\n",
       "      <td>40.680611</td>\n",
       "      <td>-73.924278</td>\n",
       "      <td>40.698044</td>\n",
       "      <td>1</td>\n",
       "      <td>1.46</td>\n",
       "      <td>8.0</td>\n",
       "      <td>1.86</td>\n",
       "      <td>11.16</td>\n",
       "      <td>1</td>\n",
       "      <td>1.0</td>\n",
       "    </tr>\n",
       "    <tr>\n",
       "      <th>1</th>\n",
       "      <td>2016-01-01 00:19:39</td>\n",
       "      <td>2016-01-01 00:39:18</td>\n",
       "      <td>-73.952675</td>\n",
       "      <td>40.723175</td>\n",
       "      <td>-73.923920</td>\n",
       "      <td>40.761379</td>\n",
       "      <td>1</td>\n",
       "      <td>3.56</td>\n",
       "      <td>15.5</td>\n",
       "      <td>0.00</td>\n",
       "      <td>16.80</td>\n",
       "      <td>2</td>\n",
       "      <td>1.0</td>\n",
       "    </tr>\n",
       "    <tr>\n",
       "      <th>2</th>\n",
       "      <td>2016-01-01 00:19:33</td>\n",
       "      <td>2016-01-01 00:39:48</td>\n",
       "      <td>-73.971611</td>\n",
       "      <td>40.676105</td>\n",
       "      <td>-74.013161</td>\n",
       "      <td>40.646072</td>\n",
       "      <td>1</td>\n",
       "      <td>3.79</td>\n",
       "      <td>16.5</td>\n",
       "      <td>4.45</td>\n",
       "      <td>22.25</td>\n",
       "      <td>1</td>\n",
       "      <td>1.0</td>\n",
       "    </tr>\n",
       "    <tr>\n",
       "      <th>3</th>\n",
       "      <td>2016-01-01 00:22:12</td>\n",
       "      <td>2016-01-01 00:38:32</td>\n",
       "      <td>-73.989502</td>\n",
       "      <td>40.669579</td>\n",
       "      <td>-74.000648</td>\n",
       "      <td>40.689034</td>\n",
       "      <td>1</td>\n",
       "      <td>3.01</td>\n",
       "      <td>13.5</td>\n",
       "      <td>0.00</td>\n",
       "      <td>14.80</td>\n",
       "      <td>2</td>\n",
       "      <td>1.0</td>\n",
       "    </tr>\n",
       "    <tr>\n",
       "      <th>4</th>\n",
       "      <td>2016-01-01 00:24:01</td>\n",
       "      <td>2016-01-01 00:39:22</td>\n",
       "      <td>-73.964729</td>\n",
       "      <td>40.682854</td>\n",
       "      <td>-73.940720</td>\n",
       "      <td>40.663013</td>\n",
       "      <td>1</td>\n",
       "      <td>2.55</td>\n",
       "      <td>12.0</td>\n",
       "      <td>0.00</td>\n",
       "      <td>13.30</td>\n",
       "      <td>2</td>\n",
       "      <td>1.0</td>\n",
       "    </tr>\n",
       "    <tr>\n",
       "      <th>5</th>\n",
       "      <td>2016-01-01 00:32:59</td>\n",
       "      <td>2016-01-01 00:39:35</td>\n",
       "      <td>-73.891144</td>\n",
       "      <td>40.746456</td>\n",
       "      <td>-73.867744</td>\n",
       "      <td>40.742111</td>\n",
       "      <td>1</td>\n",
       "      <td>1.37</td>\n",
       "      <td>7.0</td>\n",
       "      <td>0.00</td>\n",
       "      <td>8.30</td>\n",
       "      <td>2</td>\n",
       "      <td>1.0</td>\n",
       "    </tr>\n",
       "    <tr>\n",
       "      <th>6</th>\n",
       "      <td>2016-01-01 00:34:42</td>\n",
       "      <td>2016-01-01 00:39:21</td>\n",
       "      <td>-73.896675</td>\n",
       "      <td>40.746197</td>\n",
       "      <td>-73.886192</td>\n",
       "      <td>40.745689</td>\n",
       "      <td>1</td>\n",
       "      <td>0.57</td>\n",
       "      <td>5.0</td>\n",
       "      <td>0.00</td>\n",
       "      <td>6.30</td>\n",
       "      <td>2</td>\n",
       "      <td>1.0</td>\n",
       "    </tr>\n",
       "    <tr>\n",
       "      <th>7</th>\n",
       "      <td>2016-01-01 00:31:23</td>\n",
       "      <td>2016-01-01 00:39:36</td>\n",
       "      <td>-73.953354</td>\n",
       "      <td>40.803558</td>\n",
       "      <td>-73.949150</td>\n",
       "      <td>40.794121</td>\n",
       "      <td>1</td>\n",
       "      <td>1.01</td>\n",
       "      <td>7.0</td>\n",
       "      <td>0.00</td>\n",
       "      <td>8.30</td>\n",
       "      <td>2</td>\n",
       "      <td>1.0</td>\n",
       "    </tr>\n",
       "    <tr>\n",
       "      <th>8</th>\n",
       "      <td>2016-01-01 00:24:40</td>\n",
       "      <td>2016-01-01 00:39:52</td>\n",
       "      <td>-73.994064</td>\n",
       "      <td>40.702816</td>\n",
       "      <td>-73.971573</td>\n",
       "      <td>40.679726</td>\n",
       "      <td>1</td>\n",
       "      <td>2.46</td>\n",
       "      <td>12.0</td>\n",
       "      <td>2.00</td>\n",
       "      <td>15.30</td>\n",
       "      <td>1</td>\n",
       "      <td>1.0</td>\n",
       "    </tr>\n",
       "    <tr>\n",
       "      <th>9</th>\n",
       "      <td>2016-01-01 00:28:59</td>\n",
       "      <td>2016-01-01 00:39:23</td>\n",
       "      <td>-73.914131</td>\n",
       "      <td>40.756641</td>\n",
       "      <td>-73.917549</td>\n",
       "      <td>40.739658</td>\n",
       "      <td>1</td>\n",
       "      <td>1.61</td>\n",
       "      <td>9.0</td>\n",
       "      <td>1.60</td>\n",
       "      <td>11.90</td>\n",
       "      <td>1</td>\n",
       "      <td>1.0</td>\n",
       "    </tr>\n",
       "  </tbody>\n",
       "</table>\n",
       "</div>"
      ],
      "text/plain": [
       "  lpep_pickup_datetime Lpep_dropoff_datetime  Pickup_longitude  \\\n",
       "0  2016-01-01 00:29:24   2016-01-01 00:39:36        -73.928642   \n",
       "1  2016-01-01 00:19:39   2016-01-01 00:39:18        -73.952675   \n",
       "2  2016-01-01 00:19:33   2016-01-01 00:39:48        -73.971611   \n",
       "3  2016-01-01 00:22:12   2016-01-01 00:38:32        -73.989502   \n",
       "4  2016-01-01 00:24:01   2016-01-01 00:39:22        -73.964729   \n",
       "5  2016-01-01 00:32:59   2016-01-01 00:39:35        -73.891144   \n",
       "6  2016-01-01 00:34:42   2016-01-01 00:39:21        -73.896675   \n",
       "7  2016-01-01 00:31:23   2016-01-01 00:39:36        -73.953354   \n",
       "8  2016-01-01 00:24:40   2016-01-01 00:39:52        -73.994064   \n",
       "9  2016-01-01 00:28:59   2016-01-01 00:39:23        -73.914131   \n",
       "\n",
       "   Pickup_latitude  Dropoff_longitude  Dropoff_latitude  Passenger_count  \\\n",
       "0        40.680611         -73.924278         40.698044                1   \n",
       "1        40.723175         -73.923920         40.761379                1   \n",
       "2        40.676105         -74.013161         40.646072                1   \n",
       "3        40.669579         -74.000648         40.689034                1   \n",
       "4        40.682854         -73.940720         40.663013                1   \n",
       "5        40.746456         -73.867744         40.742111                1   \n",
       "6        40.746197         -73.886192         40.745689                1   \n",
       "7        40.803558         -73.949150         40.794121                1   \n",
       "8        40.702816         -73.971573         40.679726                1   \n",
       "9        40.756641         -73.917549         40.739658                1   \n",
       "\n",
       "   Trip_distance  Fare_amount  Tip_amount  Total_amount  Payment_type  \\\n",
       "0           1.46          8.0        1.86         11.16             1   \n",
       "1           3.56         15.5        0.00         16.80             2   \n",
       "2           3.79         16.5        4.45         22.25             1   \n",
       "3           3.01         13.5        0.00         14.80             2   \n",
       "4           2.55         12.0        0.00         13.30             2   \n",
       "5           1.37          7.0        0.00          8.30             2   \n",
       "6           0.57          5.0        0.00          6.30             2   \n",
       "7           1.01          7.0        0.00          8.30             2   \n",
       "8           2.46         12.0        2.00         15.30             1   \n",
       "9           1.61          9.0        1.60         11.90             1   \n",
       "\n",
       "   Trip_type   \n",
       "0         1.0  \n",
       "1         1.0  \n",
       "2         1.0  \n",
       "3         1.0  \n",
       "4         1.0  \n",
       "5         1.0  \n",
       "6         1.0  \n",
       "7         1.0  \n",
       "8         1.0  \n",
       "9         1.0  "
      ]
     },
     "execution_count": 62,
     "metadata": {},
     "output_type": "execute_result"
    }
   ],
   "source": [
    "test=st.head(10)\n",
    "test"
   ]
  },
  {
   "cell_type": "code",
   "execution_count": 58,
   "metadata": {},
   "outputs": [
    {
     "name": "stderr",
     "output_type": "stream",
     "text": [
      "C:\\Users\\Paula\\Anaconda3\\lib\\site-packages\\ipykernel_launcher.py:1: SettingWithCopyWarning: \n",
      "A value is trying to be set on a copy of a slice from a DataFrame\n",
      "\n",
      "See the caveats in the documentation: http://pandas.pydata.org/pandas-docs/stable/indexing.html#indexing-view-versus-copy\n",
      "  \"\"\"Entry point for launching an IPython kernel.\n"
     ]
    }
   ],
   "source": [
    "test.drop('Store_and_fwd_flag', axis=1, inplace=True)"
   ]
  },
  {
   "cell_type": "code",
   "execution_count": 66,
   "metadata": {},
   "outputs": [],
   "source": [
    "st['platnosc']=np.arange(len(st))"
   ]
  },
  {
   "cell_type": "code",
   "execution_count": 67,
   "metadata": {},
   "outputs": [
    {
     "data": {
      "text/html": [
       "<div>\n",
       "<style scoped>\n",
       "    .dataframe tbody tr th:only-of-type {\n",
       "        vertical-align: middle;\n",
       "    }\n",
       "\n",
       "    .dataframe tbody tr th {\n",
       "        vertical-align: top;\n",
       "    }\n",
       "\n",
       "    .dataframe thead th {\n",
       "        text-align: right;\n",
       "    }\n",
       "</style>\n",
       "<table border=\"1\" class=\"dataframe\">\n",
       "  <thead>\n",
       "    <tr style=\"text-align: right;\">\n",
       "      <th></th>\n",
       "      <th>lpep_pickup_datetime</th>\n",
       "      <th>Lpep_dropoff_datetime</th>\n",
       "      <th>Pickup_longitude</th>\n",
       "      <th>Pickup_latitude</th>\n",
       "      <th>Dropoff_longitude</th>\n",
       "      <th>Dropoff_latitude</th>\n",
       "      <th>Passenger_count</th>\n",
       "      <th>Trip_distance</th>\n",
       "      <th>Fare_amount</th>\n",
       "      <th>Tip_amount</th>\n",
       "      <th>Total_amount</th>\n",
       "      <th>Payment_type</th>\n",
       "      <th>Trip_type</th>\n",
       "      <th>platnosc</th>\n",
       "    </tr>\n",
       "  </thead>\n",
       "  <tbody>\n",
       "    <tr>\n",
       "      <th>0</th>\n",
       "      <td>2016-01-01 00:29:24</td>\n",
       "      <td>2016-01-01 00:39:36</td>\n",
       "      <td>-73.928642</td>\n",
       "      <td>40.680611</td>\n",
       "      <td>-73.924278</td>\n",
       "      <td>40.698044</td>\n",
       "      <td>1</td>\n",
       "      <td>1.46</td>\n",
       "      <td>8.0</td>\n",
       "      <td>1.86</td>\n",
       "      <td>11.16</td>\n",
       "      <td>1</td>\n",
       "      <td>1.0</td>\n",
       "      <td>0</td>\n",
       "    </tr>\n",
       "    <tr>\n",
       "      <th>1</th>\n",
       "      <td>2016-01-01 00:19:39</td>\n",
       "      <td>2016-01-01 00:39:18</td>\n",
       "      <td>-73.952675</td>\n",
       "      <td>40.723175</td>\n",
       "      <td>-73.923920</td>\n",
       "      <td>40.761379</td>\n",
       "      <td>1</td>\n",
       "      <td>3.56</td>\n",
       "      <td>15.5</td>\n",
       "      <td>0.00</td>\n",
       "      <td>16.80</td>\n",
       "      <td>2</td>\n",
       "      <td>1.0</td>\n",
       "      <td>1</td>\n",
       "    </tr>\n",
       "    <tr>\n",
       "      <th>2</th>\n",
       "      <td>2016-01-01 00:19:33</td>\n",
       "      <td>2016-01-01 00:39:48</td>\n",
       "      <td>-73.971611</td>\n",
       "      <td>40.676105</td>\n",
       "      <td>-74.013161</td>\n",
       "      <td>40.646072</td>\n",
       "      <td>1</td>\n",
       "      <td>3.79</td>\n",
       "      <td>16.5</td>\n",
       "      <td>4.45</td>\n",
       "      <td>22.25</td>\n",
       "      <td>1</td>\n",
       "      <td>1.0</td>\n",
       "      <td>2</td>\n",
       "    </tr>\n",
       "    <tr>\n",
       "      <th>3</th>\n",
       "      <td>2016-01-01 00:22:12</td>\n",
       "      <td>2016-01-01 00:38:32</td>\n",
       "      <td>-73.989502</td>\n",
       "      <td>40.669579</td>\n",
       "      <td>-74.000648</td>\n",
       "      <td>40.689034</td>\n",
       "      <td>1</td>\n",
       "      <td>3.01</td>\n",
       "      <td>13.5</td>\n",
       "      <td>0.00</td>\n",
       "      <td>14.80</td>\n",
       "      <td>2</td>\n",
       "      <td>1.0</td>\n",
       "      <td>3</td>\n",
       "    </tr>\n",
       "    <tr>\n",
       "      <th>4</th>\n",
       "      <td>2016-01-01 00:24:01</td>\n",
       "      <td>2016-01-01 00:39:22</td>\n",
       "      <td>-73.964729</td>\n",
       "      <td>40.682854</td>\n",
       "      <td>-73.940720</td>\n",
       "      <td>40.663013</td>\n",
       "      <td>1</td>\n",
       "      <td>2.55</td>\n",
       "      <td>12.0</td>\n",
       "      <td>0.00</td>\n",
       "      <td>13.30</td>\n",
       "      <td>2</td>\n",
       "      <td>1.0</td>\n",
       "      <td>4</td>\n",
       "    </tr>\n",
       "    <tr>\n",
       "      <th>5</th>\n",
       "      <td>2016-01-01 00:32:59</td>\n",
       "      <td>2016-01-01 00:39:35</td>\n",
       "      <td>-73.891144</td>\n",
       "      <td>40.746456</td>\n",
       "      <td>-73.867744</td>\n",
       "      <td>40.742111</td>\n",
       "      <td>1</td>\n",
       "      <td>1.37</td>\n",
       "      <td>7.0</td>\n",
       "      <td>0.00</td>\n",
       "      <td>8.30</td>\n",
       "      <td>2</td>\n",
       "      <td>1.0</td>\n",
       "      <td>5</td>\n",
       "    </tr>\n",
       "    <tr>\n",
       "      <th>6</th>\n",
       "      <td>2016-01-01 00:34:42</td>\n",
       "      <td>2016-01-01 00:39:21</td>\n",
       "      <td>-73.896675</td>\n",
       "      <td>40.746197</td>\n",
       "      <td>-73.886192</td>\n",
       "      <td>40.745689</td>\n",
       "      <td>1</td>\n",
       "      <td>0.57</td>\n",
       "      <td>5.0</td>\n",
       "      <td>0.00</td>\n",
       "      <td>6.30</td>\n",
       "      <td>2</td>\n",
       "      <td>1.0</td>\n",
       "      <td>6</td>\n",
       "    </tr>\n",
       "    <tr>\n",
       "      <th>7</th>\n",
       "      <td>2016-01-01 00:31:23</td>\n",
       "      <td>2016-01-01 00:39:36</td>\n",
       "      <td>-73.953354</td>\n",
       "      <td>40.803558</td>\n",
       "      <td>-73.949150</td>\n",
       "      <td>40.794121</td>\n",
       "      <td>1</td>\n",
       "      <td>1.01</td>\n",
       "      <td>7.0</td>\n",
       "      <td>0.00</td>\n",
       "      <td>8.30</td>\n",
       "      <td>2</td>\n",
       "      <td>1.0</td>\n",
       "      <td>7</td>\n",
       "    </tr>\n",
       "    <tr>\n",
       "      <th>8</th>\n",
       "      <td>2016-01-01 00:24:40</td>\n",
       "      <td>2016-01-01 00:39:52</td>\n",
       "      <td>-73.994064</td>\n",
       "      <td>40.702816</td>\n",
       "      <td>-73.971573</td>\n",
       "      <td>40.679726</td>\n",
       "      <td>1</td>\n",
       "      <td>2.46</td>\n",
       "      <td>12.0</td>\n",
       "      <td>2.00</td>\n",
       "      <td>15.30</td>\n",
       "      <td>1</td>\n",
       "      <td>1.0</td>\n",
       "      <td>8</td>\n",
       "    </tr>\n",
       "    <tr>\n",
       "      <th>9</th>\n",
       "      <td>2016-01-01 00:28:59</td>\n",
       "      <td>2016-01-01 00:39:23</td>\n",
       "      <td>-73.914131</td>\n",
       "      <td>40.756641</td>\n",
       "      <td>-73.917549</td>\n",
       "      <td>40.739658</td>\n",
       "      <td>1</td>\n",
       "      <td>1.61</td>\n",
       "      <td>9.0</td>\n",
       "      <td>1.60</td>\n",
       "      <td>11.90</td>\n",
       "      <td>1</td>\n",
       "      <td>1.0</td>\n",
       "      <td>9</td>\n",
       "    </tr>\n",
       "  </tbody>\n",
       "</table>\n",
       "</div>"
      ],
      "text/plain": [
       "  lpep_pickup_datetime Lpep_dropoff_datetime  Pickup_longitude  \\\n",
       "0  2016-01-01 00:29:24   2016-01-01 00:39:36        -73.928642   \n",
       "1  2016-01-01 00:19:39   2016-01-01 00:39:18        -73.952675   \n",
       "2  2016-01-01 00:19:33   2016-01-01 00:39:48        -73.971611   \n",
       "3  2016-01-01 00:22:12   2016-01-01 00:38:32        -73.989502   \n",
       "4  2016-01-01 00:24:01   2016-01-01 00:39:22        -73.964729   \n",
       "5  2016-01-01 00:32:59   2016-01-01 00:39:35        -73.891144   \n",
       "6  2016-01-01 00:34:42   2016-01-01 00:39:21        -73.896675   \n",
       "7  2016-01-01 00:31:23   2016-01-01 00:39:36        -73.953354   \n",
       "8  2016-01-01 00:24:40   2016-01-01 00:39:52        -73.994064   \n",
       "9  2016-01-01 00:28:59   2016-01-01 00:39:23        -73.914131   \n",
       "\n",
       "   Pickup_latitude  Dropoff_longitude  Dropoff_latitude  Passenger_count  \\\n",
       "0        40.680611         -73.924278         40.698044                1   \n",
       "1        40.723175         -73.923920         40.761379                1   \n",
       "2        40.676105         -74.013161         40.646072                1   \n",
       "3        40.669579         -74.000648         40.689034                1   \n",
       "4        40.682854         -73.940720         40.663013                1   \n",
       "5        40.746456         -73.867744         40.742111                1   \n",
       "6        40.746197         -73.886192         40.745689                1   \n",
       "7        40.803558         -73.949150         40.794121                1   \n",
       "8        40.702816         -73.971573         40.679726                1   \n",
       "9        40.756641         -73.917549         40.739658                1   \n",
       "\n",
       "   Trip_distance  Fare_amount  Tip_amount  Total_amount  Payment_type  \\\n",
       "0           1.46          8.0        1.86         11.16             1   \n",
       "1           3.56         15.5        0.00         16.80             2   \n",
       "2           3.79         16.5        4.45         22.25             1   \n",
       "3           3.01         13.5        0.00         14.80             2   \n",
       "4           2.55         12.0        0.00         13.30             2   \n",
       "5           1.37          7.0        0.00          8.30             2   \n",
       "6           0.57          5.0        0.00          6.30             2   \n",
       "7           1.01          7.0        0.00          8.30             2   \n",
       "8           2.46         12.0        2.00         15.30             1   \n",
       "9           1.61          9.0        1.60         11.90             1   \n",
       "\n",
       "   Trip_type   platnosc  \n",
       "0         1.0         0  \n",
       "1         1.0         1  \n",
       "2         1.0         2  \n",
       "3         1.0         3  \n",
       "4         1.0         4  \n",
       "5         1.0         5  \n",
       "6         1.0         6  \n",
       "7         1.0         7  \n",
       "8         1.0         8  \n",
       "9         1.0         9  "
      ]
     },
     "execution_count": 67,
     "metadata": {},
     "output_type": "execute_result"
    }
   ],
   "source": [
    "st.head(10)"
   ]
  },
  {
   "cell_type": "code",
   "execution_count": 74,
   "metadata": {},
   "outputs": [
    {
     "data": {
      "text/html": [
       "<div>\n",
       "<style scoped>\n",
       "    .dataframe tbody tr th:only-of-type {\n",
       "        vertical-align: middle;\n",
       "    }\n",
       "\n",
       "    .dataframe tbody tr th {\n",
       "        vertical-align: top;\n",
       "    }\n",
       "\n",
       "    .dataframe thead th {\n",
       "        text-align: right;\n",
       "    }\n",
       "</style>\n",
       "<table border=\"1\" class=\"dataframe\">\n",
       "  <thead>\n",
       "    <tr style=\"text-align: right;\">\n",
       "      <th></th>\n",
       "      <th>lpep_pickup_datetime</th>\n",
       "      <th>Lpep_dropoff_datetime</th>\n",
       "      <th>Pickup_longitude</th>\n",
       "      <th>Pickup_latitude</th>\n",
       "      <th>Dropoff_longitude</th>\n",
       "      <th>Dropoff_latitude</th>\n",
       "      <th>Passenger_count</th>\n",
       "      <th>Trip_distance</th>\n",
       "      <th>Fare_amount</th>\n",
       "      <th>Tip_amount</th>\n",
       "      <th>Total_amount</th>\n",
       "      <th>Payment_type</th>\n",
       "      <th>Trip_type</th>\n",
       "      <th>platnosc</th>\n",
       "    </tr>\n",
       "  </thead>\n",
       "  <tbody>\n",
       "    <tr>\n",
       "      <th>0</th>\n",
       "      <td>2016-01-01 00:29:24</td>\n",
       "      <td>2016-01-01 00:39:36</td>\n",
       "      <td>-73.928642</td>\n",
       "      <td>40.680611</td>\n",
       "      <td>-73.924278</td>\n",
       "      <td>40.698044</td>\n",
       "      <td>1</td>\n",
       "      <td>1.46</td>\n",
       "      <td>8.0</td>\n",
       "      <td>1.86</td>\n",
       "      <td>11.16</td>\n",
       "      <td>1</td>\n",
       "      <td>1.0</td>\n",
       "      <td>0</td>\n",
       "    </tr>\n",
       "    <tr>\n",
       "      <th>1</th>\n",
       "      <td>2016-01-01 00:19:39</td>\n",
       "      <td>2016-01-01 00:39:18</td>\n",
       "      <td>-73.952675</td>\n",
       "      <td>40.723175</td>\n",
       "      <td>-73.923920</td>\n",
       "      <td>40.761379</td>\n",
       "      <td>1</td>\n",
       "      <td>3.56</td>\n",
       "      <td>15.5</td>\n",
       "      <td>0.00</td>\n",
       "      <td>16.80</td>\n",
       "      <td>2</td>\n",
       "      <td>1.0</td>\n",
       "      <td>1</td>\n",
       "    </tr>\n",
       "    <tr>\n",
       "      <th>2</th>\n",
       "      <td>2016-01-01 00:19:33</td>\n",
       "      <td>2016-01-01 00:39:48</td>\n",
       "      <td>-73.971611</td>\n",
       "      <td>40.676105</td>\n",
       "      <td>-74.013161</td>\n",
       "      <td>40.646072</td>\n",
       "      <td>1</td>\n",
       "      <td>3.79</td>\n",
       "      <td>16.5</td>\n",
       "      <td>4.45</td>\n",
       "      <td>22.25</td>\n",
       "      <td>1</td>\n",
       "      <td>1.0</td>\n",
       "      <td>2</td>\n",
       "    </tr>\n",
       "    <tr>\n",
       "      <th>3</th>\n",
       "      <td>2016-01-01 00:22:12</td>\n",
       "      <td>2016-01-01 00:38:32</td>\n",
       "      <td>-73.989502</td>\n",
       "      <td>40.669579</td>\n",
       "      <td>-74.000648</td>\n",
       "      <td>40.689034</td>\n",
       "      <td>1</td>\n",
       "      <td>3.01</td>\n",
       "      <td>13.5</td>\n",
       "      <td>0.00</td>\n",
       "      <td>14.80</td>\n",
       "      <td>2</td>\n",
       "      <td>1.0</td>\n",
       "      <td>3</td>\n",
       "    </tr>\n",
       "    <tr>\n",
       "      <th>4</th>\n",
       "      <td>2016-01-01 00:24:01</td>\n",
       "      <td>2016-01-01 00:39:22</td>\n",
       "      <td>-73.964729</td>\n",
       "      <td>40.682854</td>\n",
       "      <td>-73.940720</td>\n",
       "      <td>40.663013</td>\n",
       "      <td>1</td>\n",
       "      <td>2.55</td>\n",
       "      <td>12.0</td>\n",
       "      <td>0.00</td>\n",
       "      <td>13.30</td>\n",
       "      <td>2</td>\n",
       "      <td>1.0</td>\n",
       "      <td>4</td>\n",
       "    </tr>\n",
       "  </tbody>\n",
       "</table>\n",
       "</div>"
      ],
      "text/plain": [
       "  lpep_pickup_datetime Lpep_dropoff_datetime  Pickup_longitude  \\\n",
       "0  2016-01-01 00:29:24   2016-01-01 00:39:36        -73.928642   \n",
       "1  2016-01-01 00:19:39   2016-01-01 00:39:18        -73.952675   \n",
       "2  2016-01-01 00:19:33   2016-01-01 00:39:48        -73.971611   \n",
       "3  2016-01-01 00:22:12   2016-01-01 00:38:32        -73.989502   \n",
       "4  2016-01-01 00:24:01   2016-01-01 00:39:22        -73.964729   \n",
       "\n",
       "   Pickup_latitude  Dropoff_longitude  Dropoff_latitude  Passenger_count  \\\n",
       "0        40.680611         -73.924278         40.698044                1   \n",
       "1        40.723175         -73.923920         40.761379                1   \n",
       "2        40.676105         -74.013161         40.646072                1   \n",
       "3        40.669579         -74.000648         40.689034                1   \n",
       "4        40.682854         -73.940720         40.663013                1   \n",
       "\n",
       "   Trip_distance  Fare_amount  Tip_amount  Total_amount  Payment_type  \\\n",
       "0           1.46          8.0        1.86         11.16             1   \n",
       "1           3.56         15.5        0.00         16.80             2   \n",
       "2           3.79         16.5        4.45         22.25             1   \n",
       "3           3.01         13.5        0.00         14.80             2   \n",
       "4           2.55         12.0        0.00         13.30             2   \n",
       "\n",
       "   Trip_type   platnosc  \n",
       "0         1.0         0  \n",
       "1         1.0         1  \n",
       "2         1.0         2  \n",
       "3         1.0         3  \n",
       "4         1.0         4  "
      ]
     },
     "execution_count": 74,
     "metadata": {},
     "output_type": "execute_result"
    }
   ],
   "source": [
    "st.head()"
   ]
  },
  {
   "cell_type": "code",
   "execution_count": 76,
   "metadata": {},
   "outputs": [
    {
     "data": {
      "text/html": [
       "<div>\n",
       "<style scoped>\n",
       "    .dataframe tbody tr th:only-of-type {\n",
       "        vertical-align: middle;\n",
       "    }\n",
       "\n",
       "    .dataframe tbody tr th {\n",
       "        vertical-align: top;\n",
       "    }\n",
       "\n",
       "    .dataframe thead th {\n",
       "        text-align: right;\n",
       "    }\n",
       "</style>\n",
       "<table border=\"1\" class=\"dataframe\">\n",
       "  <thead>\n",
       "    <tr style=\"text-align: right;\">\n",
       "      <th></th>\n",
       "      <th>Liczba</th>\n",
       "      <th>Litera</th>\n",
       "    </tr>\n",
       "  </thead>\n",
       "  <tbody>\n",
       "    <tr>\n",
       "      <th>0</th>\n",
       "      <td>1</td>\n",
       "      <td>A</td>\n",
       "    </tr>\n",
       "    <tr>\n",
       "      <th>1</th>\n",
       "      <td>2</td>\n",
       "      <td>B</td>\n",
       "    </tr>\n",
       "    <tr>\n",
       "      <th>2</th>\n",
       "      <td>3</td>\n",
       "      <td>C</td>\n",
       "    </tr>\n",
       "  </tbody>\n",
       "</table>\n",
       "</div>"
      ],
      "text/plain": [
       "   Liczba Litera\n",
       "0       1      A\n",
       "1       2      B\n",
       "2       3      C"
      ]
     },
     "execution_count": 76,
     "metadata": {},
     "output_type": "execute_result"
    }
   ],
   "source": [
    "data={'Litera': ['A', 'B', 'C'], 'Liczba': [1,2,3]}\n",
    "lit=DataFrame(data)\n",
    "lit\n"
   ]
  },
  {
   "cell_type": "code",
   "execution_count": null,
   "metadata": {
    "collapsed": true
   },
   "outputs": [],
   "source": []
  }
 ],
 "metadata": {
  "kernelspec": {
   "display_name": "Python 3",
   "language": "python",
   "name": "python3"
  },
  "language_info": {
   "codemirror_mode": {
    "name": "ipython",
    "version": 3
   },
   "file_extension": ".py",
   "mimetype": "text/x-python",
   "name": "python",
   "nbconvert_exporter": "python",
   "pygments_lexer": "ipython3",
   "version": "3.6.3"
  }
 },
 "nbformat": 4,
 "nbformat_minor": 2
}

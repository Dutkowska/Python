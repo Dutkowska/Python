{
 "cells": [
  {
   "cell_type": "code",
   "execution_count": 16,
   "metadata": {},
   "outputs": [],
   "source": [
    "from tkinter import *\n",
    "from tkinter import messagebox\n",
    "okn=Tk()\n",
    "okn.title(\"Szkic menu\")\n",
    "menup=Menu(okn)\n",
    "\n",
    "def tworca():\n",
    "    messagebox.showinfo(\"Twórca\", \"Program jest dziełem PD.\")\n",
    "def about():\n",
    "    okn2=Tk()\n",
    "    okn2.title(\"O programie\")\n",
    "    text=Text(okn2)\n",
    "    text.insert(INSERT, \"w tym miejscu info o programie ...\")\n",
    "    text.pack()\n",
    "    okn2.mainloop()\n",
    "    \n",
    "def problem():\n",
    "    messagebox.showerror(\"Error\", \"Nie można wykonać operacji\")\n",
    "\n",
    "pmenu=Menu(menup, tearoff=0)\n",
    "\n",
    "submenu=Menu(pmenu)\n",
    "submenu.add_command(label=\"refresh programu\", command=problem)\n",
    "submenu.add_command(label=\"otwórz inny program\", command=problem)\n",
    "pmenu.add_cascade(label=\"Nowy\", menu=submenu, underline=0)\n",
    "\n",
    "pmenu.add_separator()\n",
    "\n",
    "pmenu.add_command(label=\"Exit\", command=okn.destroy)\n",
    "menup.add_cascade(label=\"Plik\", menu=pmenu)\n",
    "\n",
    "hmenu=Menu(menup, tearoff=0)\n",
    "hmenu.add_command(label=\"O programie\", command=about)\n",
    "hmenu.add_command(label=\"Tworca\", command=tworca)\n",
    "menup.add_cascade(label=\"Pomoc\", menu=hmenu)\n",
    "\n",
    "#menu from mouse\n",
    "def sMenu(poz):\n",
    "    myszmenu.post(poz.x_root, poz.y_root)\n",
    "myszmenu=Menu(okn, tearoff=0)\n",
    "myszmenu.add_command(label=\"Exit\", command=okn.destroy)\n",
    "okn.bind(\"<Button-3>\", sMenu)\n",
    "\n",
    "okn.config(menu=menup)\n",
    "okn.mainloop()"
   ]
  },
  {
   "cell_type": "code",
   "execution_count": null,
   "metadata": {
    "collapsed": true
   },
   "outputs": [],
   "source": []
  },
  {
   "cell_type": "code",
   "execution_count": null,
   "metadata": {
    "collapsed": true
   },
   "outputs": [],
   "source": []
  }
 ],
 "metadata": {
  "kernelspec": {
   "display_name": "Python 3",
   "language": "python",
   "name": "python3"
  },
  "language_info": {
   "codemirror_mode": {
    "name": "ipython",
    "version": 3
   },
   "file_extension": ".py",
   "mimetype": "text/x-python",
   "name": "python",
   "nbconvert_exporter": "python",
   "pygments_lexer": "ipython3",
   "version": "3.6.3"
  }
 },
 "nbformat": 4,
 "nbformat_minor": 2
}

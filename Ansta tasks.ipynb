{
 "cells": [
  {
   "cell_type": "code",
   "execution_count": 1,
   "metadata": {
    "collapsed": true
   },
   "outputs": [],
   "source": [
    "#1. codes('79-400', '80-155'), write codes between code a and code b\n",
    "def codes(a, b):\n",
    "    codes=[]\n",
    "    for i in range(int(a[3:])+1, 1000): codes.append(a[:2].zfill(2) + '-' + str(i).zfill(3))\n",
    "    for j in range(int(a[:2])+1, int(b[:2])):\n",
    "        for k in range(0, 1000): codes.append(str(j).zfill(2) + '-' + str(k).zfill(3))       \n",
    "    for z in range(int(b[3:])): codes.append(b[:2].zfill(2) + '-' + str(z).zfill(3))\n",
    "    return codes"
   ]
  },
  {
   "cell_type": "code",
   "execution_count": 2,
   "metadata": {
    "collapsed": true
   },
   "outputs": [],
   "source": [
    "#2. missing([2,3,7,4,9], 10), write missing numbers from list [1, ... n]\n",
    "def missing(numbers, n):\n",
    "    lack=[]\n",
    "    for i in range(1, n+1):\n",
    "        if numbers.count(i)==0: lack.append(i)\n",
    "    return lack"
   ]
  },
  {
   "cell_type": "code",
   "execution_count": 3,
   "metadata": {
    "collapsed": true
   },
   "outputs": [],
   "source": [
    "#3. write list from start to stop (assumption: including stop), with Decimal\n",
    "def numbers(start, stop, step):\n",
    "    from decimal import Decimal\n",
    "    import numpy as np\n",
    "    print(np.arange(Decimal(start), Decimal(stop+step), Decimal(step)))"
   ]
  },
  {
   "cell_type": "code",
   "execution_count": null,
   "metadata": {
    "collapsed": true
   },
   "outputs": [],
   "source": []
  }
 ],
 "metadata": {
  "kernelspec": {
   "display_name": "Python 3",
   "language": "python",
   "name": "python3"
  },
  "language_info": {
   "codemirror_mode": {
    "name": "ipython",
    "version": 3
   },
   "file_extension": ".py",
   "mimetype": "text/x-python",
   "name": "python",
   "nbconvert_exporter": "python",
   "pygments_lexer": "ipython3",
   "version": "3.6.3"
  }
 },
 "nbformat": 4,
 "nbformat_minor": 2
}
